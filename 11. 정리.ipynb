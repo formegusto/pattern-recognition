{
 "cells": [
  {
   "cell_type": "markdown",
   "id": "c31a5ba0",
   "metadata": {},
   "source": [
    "Keyword\n",
    "---\n",
    " - Data Preprocessing\n",
    "  - Load Excel\n",
    "  - Split Season\n",
    "  - Remove Outlier (X)\n",
    "  - Scaler\n",
    "   - STANDARD\n",
    "   - MIN\n",
    "   - MAX\n",
    "   - ROBUST\n",
    " \n",
    " - Dimensionality Reduction\n",
    "  - PCA(Principal Component Analysis)\n",
    "  - Scatter Plot\n",
    " - KMeans-Clustering\n",
    " - Visualization\n",
    "  - ClusterMap\n",
    "   - Each Based\n",
    "   - Distribution Based\n",
    "  - Cluster Scatter\n",
    "   - Cluter === Label PCA\n",
    "  - Input New Houself\n",
    "   - Data Preprocessing\n",
    "   - Dimesinality Reduction\n",
    "   - KMeans-Clustering\n",
    "   - Cluster Sctter In\n",
    "   - Cluster Near by new Houself Cluster\n",
    "   - Line Plot Test\n",
    "   - raw data Distribution Graph\n",
    "   - processing Data Distribution Graph"
   ]
  },
  {
   "cell_type": "code",
   "execution_count": null,
   "id": "9b1d0a66",
   "metadata": {},
   "outputs": [],
   "source": []
  }
 ],
 "metadata": {
  "kernelspec": {
   "display_name": "Python 3",
   "language": "python",
   "name": "python3"
  },
  "language_info": {
   "codemirror_mode": {
    "name": "ipython",
    "version": 3
   },
   "file_extension": ".py",
   "mimetype": "text/x-python",
   "name": "python",
   "nbconvert_exporter": "python",
   "pygments_lexer": "ipython3",
   "version": "3.8.8"
  }
 },
 "nbformat": 4,
 "nbformat_minor": 5
}
