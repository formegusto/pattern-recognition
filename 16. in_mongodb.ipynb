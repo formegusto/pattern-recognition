{
 "cells": [
  {
   "cell_type": "code",
   "execution_count": 2,
   "id": "eb58c947",
   "metadata": {},
   "outputs": [],
   "source": [
    "from pymongo import MongoClient as mc"
   ]
  },
  {
   "cell_type": "code",
   "execution_count": 3,
   "id": "3021a866",
   "metadata": {},
   "outputs": [
    {
     "data": {
      "text/plain": [
       "pymongo.mongo_client.MongoClient"
      ]
     },
     "execution_count": 3,
     "metadata": {},
     "output_type": "execute_result"
    }
   ],
   "source": [
    "mc"
   ]
  },
  {
   "cell_type": "code",
   "execution_count": 4,
   "id": "31e0827e",
   "metadata": {},
   "outputs": [],
   "source": [
    "mongo_URI = \"mongodb://localhost:27017\"\n",
    "\n",
    "client = MongoClient(mongo_URI)"
   ]
  },
  {
   "cell_type": "code",
   "execution_count": 11,
   "id": "714bee46",
   "metadata": {},
   "outputs": [
    {
     "data": {
      "text/plain": [
       "Database(MongoClient(host=['localhost:27017'], document_class=dict, tz_aware=False, connect=True), 'pymongo_test')"
      ]
     },
     "execution_count": 11,
     "metadata": {},
     "output_type": "execute_result"
    }
   ],
   "source": [
    "db = client['pymongo_test']\n",
    "\n",
    "db"
   ]
  },
  {
   "cell_type": "code",
   "execution_count": 25,
   "id": "d822596b",
   "metadata": {},
   "outputs": [],
   "source": [
    "test = db.test"
   ]
  },
  {
   "cell_type": "code",
   "execution_count": 26,
   "id": "5c627b85",
   "metadata": {},
   "outputs": [
    {
     "name": "stdout",
     "output_type": "stream",
     "text": [
      "{'_id': ObjectId('60ef93b3415bdafbd35effb4'), 'id': 1.0, 'title': 'hello'}\n",
      "{'_id': ObjectId('60ef93df415bdafbd35effb5'), 'id': 2.0, 'title': 'bye'}\n"
     ]
    }
   ],
   "source": [
    "for test_value in test.find():\n",
    "    print(test_value)"
   ]
  },
  {
   "cell_type": "code",
   "execution_count": 29,
   "id": "d4617fbc",
   "metadata": {},
   "outputs": [
    {
     "data": {
      "text/plain": [
       "<pymongo.results.InsertOneResult at 0x7fc3d062c100>"
      ]
     },
     "execution_count": 29,
     "metadata": {},
     "output_type": "execute_result"
    }
   ],
   "source": [
    "test_1 = {\n",
    "    \"id\": 3,\n",
    "    \"title\": \"iamth\"\n",
    "}\n",
    "\n",
    "test.insert_one(test_1)"
   ]
  },
  {
   "cell_type": "code",
   "execution_count": 30,
   "id": "1203bbec",
   "metadata": {},
   "outputs": [
    {
     "name": "stdout",
     "output_type": "stream",
     "text": [
      "{'_id': ObjectId('60ef93b3415bdafbd35effb4'), 'id': 1.0, 'title': 'hello'}\n",
      "{'_id': ObjectId('60ef93df415bdafbd35effb5'), 'id': 2.0, 'title': 'bye'}\n",
      "{'_id': ObjectId('60ef95156e28ae7019315a69'), 'id': 2, 'title': 'iamth'}\n",
      "{'_id': ObjectId('60ef951f6e28ae7019315a6a'), 'id': 3, 'title': 'iamth'}\n"
     ]
    }
   ],
   "source": [
    "for test_value in test.find():\n",
    "    print(test_value)"
   ]
  },
  {
   "cell_type": "code",
   "execution_count": 32,
   "id": "3493e0ce",
   "metadata": {},
   "outputs": [
    {
     "name": "stderr",
     "output_type": "stream",
     "text": [
      "<ipython-input-32-0337ec99ef63>:1: DeprecationWarning: remove is deprecated. Use delete_one or delete_many instead.\n",
      "  test.remove({\"id\": 2})\n"
     ]
    },
    {
     "data": {
      "text/plain": [
       "{'n': 2, 'ok': 1.0}"
      ]
     },
     "execution_count": 32,
     "metadata": {},
     "output_type": "execute_result"
    }
   ],
   "source": [
    "test.remove({\"id\": 2})"
   ]
  },
  {
   "cell_type": "code",
   "execution_count": 33,
   "id": "58dbeb1f",
   "metadata": {},
   "outputs": [
    {
     "name": "stdout",
     "output_type": "stream",
     "text": [
      "{'_id': ObjectId('60ef93b3415bdafbd35effb4'), 'id': 1.0, 'title': 'hello'}\n",
      "{'_id': ObjectId('60ef951f6e28ae7019315a6a'), 'id': 3, 'title': 'iamth'}\n"
     ]
    }
   ],
   "source": [
    "for test_value in test.find():\n",
    "    print(test_value)"
   ]
  },
  {
   "cell_type": "code",
   "execution_count": 34,
   "id": "751d7526",
   "metadata": {},
   "outputs": [
    {
     "data": {
      "text/plain": [
       "<pymongo.results.InsertOneResult at 0x7fc3d0615940>"
      ]
     },
     "execution_count": 34,
     "metadata": {},
     "output_type": "execute_result"
    }
   ],
   "source": [
    "test_1 = {\n",
    "    \"id\": 2,\n",
    "    \"title\": \"bye\"\n",
    "}\n",
    "\n",
    "test.insert_one(test_1)"
   ]
  },
  {
   "cell_type": "code",
   "execution_count": 38,
   "id": "c3eafcd6",
   "metadata": {},
   "outputs": [
    {
     "name": "stdout",
     "output_type": "stream",
     "text": [
      "{'_id': ObjectId('60ef93b3415bdafbd35effb4'), 'id': 1.0, 'title': 'hello'}\n",
      "{'_id': ObjectId('60ef951f6e28ae7019315a6a'), 'id': 3, 'title': 'iamth'}\n",
      "{'_id': ObjectId('60ef95456e28ae7019315a6b'), 'id': 2, 'title': 'bye'}\n"
     ]
    }
   ],
   "source": [
    "for test_value in test.find():\n",
    "    print(test_value)"
   ]
  },
  {
   "cell_type": "code",
   "execution_count": 39,
   "id": "75e07160",
   "metadata": {},
   "outputs": [
    {
     "name": "stderr",
     "output_type": "stream",
     "text": [
      "<ipython-input-39-b21572be27b3>:1: DeprecationWarning: update is deprecated. Use replace_one, update_one or update_many instead.\n",
      "  test.update({\n"
     ]
    },
    {
     "data": {
      "text/plain": [
       "{'n': 1, 'nModified': 1, 'ok': 1.0, 'updatedExisting': True}"
      ]
     },
     "execution_count": 39,
     "metadata": {},
     "output_type": "execute_result"
    }
   ],
   "source": [
    "test.update({\n",
    "    \"id\":2\n",
    "},{\n",
    "    \"$set\": {\n",
    "        \"title\": \"okay\"\n",
    "    }\n",
    "})"
   ]
  },
  {
   "cell_type": "code",
   "execution_count": 40,
   "id": "0b6d261b",
   "metadata": {},
   "outputs": [
    {
     "data": {
      "text/plain": [
       "{'_id': ObjectId('60ef95456e28ae7019315a6b'), 'id': 2, 'title': 'okay'}"
      ]
     },
     "execution_count": 40,
     "metadata": {},
     "output_type": "execute_result"
    }
   ],
   "source": [
    "test.find_one({\n",
    "    \"id\":2\n",
    "})"
   ]
  },
  {
   "cell_type": "code",
   "execution_count": 37,
   "id": "cc3d9162",
   "metadata": {},
   "outputs": [],
   "source": [
    "client.close()"
   ]
  },
  {
   "cell_type": "code",
   "execution_count": null,
   "id": "02d0524f",
   "metadata": {},
   "outputs": [],
   "source": []
  }
 ],
 "metadata": {
  "kernelspec": {
   "display_name": "Python 3",
   "language": "python",
   "name": "python3"
  },
  "language_info": {
   "codemirror_mode": {
    "name": "ipython",
    "version": 3
   },
   "file_extension": ".py",
   "mimetype": "text/x-python",
   "name": "python",
   "nbconvert_exporter": "python",
   "pygments_lexer": "ipython3",
   "version": "3.8.8"
  }
 },
 "nbformat": 4,
 "nbformat_minor": 5
}
