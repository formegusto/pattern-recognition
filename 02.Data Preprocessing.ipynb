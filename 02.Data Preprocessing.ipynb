{
 "cells": [
  {
   "cell_type": "markdown",
   "id": "9c015416",
   "metadata": {},
   "source": [
    "# 초기 데이터 구성"
   ]
  },
  {
   "cell_type": "code",
   "execution_count": 4,
   "id": "d32c46b4",
   "metadata": {},
   "outputs": [],
   "source": [
    "import numpy as np\n",
    "from sklearn.preprocessing import StandardScaler\n",
    "from sklearn.decomposition import PCA"
   ]
  },
  {
   "cell_type": "code",
   "execution_count": 5,
   "id": "8540c3f4",
   "metadata": {},
   "outputs": [],
   "source": [
    "import pandas as pd\n",
    "from datetime import datetime, timedelta\n",
    "\n",
    "xlsx = pd.read_excel('datas.xlsx', \n",
    "                    header = None, \n",
    "                    skiprows = 2,\n",
    "                    engine = 'openpyxl')\n",
    "\n",
    "datas = {};\n",
    "for col in xlsx:\n",
    "    if col > 6: # startcol 7\n",
    "        datas[f'{xlsx[col][0]}-{xlsx[col][1]}-{xlsx[col][2]}'] = xlsx[col][3:]\n",
    "        \n",
    "def datetime_range(start, end, delta):\n",
    "        current = start\n",
    "        while current < end:\n",
    "                yield current\n",
    "                current += delta\n",
    "dts = [dt.strftime('%Y%m%d %H:%M') for dt in\n",
    "            datetime_range(datetime(2018,5,1,0), datetime(2019,5,1,0), timedelta(minutes = 15))]\n",
    "\n",
    "df = pd.DataFrame(datas)"
   ]
  },
  {
   "cell_type": "code",
   "execution_count": 96,
   "id": "d5bd187b",
   "metadata": {},
   "outputs": [
    {
     "name": "stdout",
     "output_type": "stream",
     "text": [
      "             0      1      2      3      4      5      6      7      8   \\\n",
      "20180501  0.085  0.084  0.085  0.084  0.084  0.084  0.084  0.084  0.072   \n",
      "20180502  0.051  0.050  0.050  0.051  0.050  0.050  0.050  0.046  0.030   \n",
      "20180503  0.037  0.046  0.088  0.051  0.050  0.044  0.029  0.044  0.050   \n",
      "20180504  0.064  0.074  0.085  0.084  0.065  0.065  0.086  0.084  0.074   \n",
      "20180505  0.081  0.054  0.052  0.041  0.032  0.052  0.053  0.045  0.030   \n",
      "...         ...    ...    ...    ...    ...    ...    ...    ...    ...   \n",
      "20190426  0.029  0.025  0.023  0.007  0.008  0.008  0.013  0.024  0.020   \n",
      "20190427  0.007  0.007  0.007  0.007  0.025  0.021  0.007  0.007  0.007   \n",
      "20190428  0.075  0.065  0.062  0.065  0.075  0.077  0.059  0.054  0.054   \n",
      "20190429  0.019  0.024  0.015  0.007  0.007  0.024  0.023  0.008  0.007   \n",
      "20190430  0.022  0.023  0.008  0.006  0.007  0.013  0.024  0.015  0.007   \n",
      "\n",
      "             9   ...     86     87     88     89     90     91     92     93  \\\n",
      "20180501  0.065  ...  0.074  0.084  0.085  0.083  0.066  0.069  0.087  0.092   \n",
      "20180502  0.043  ...  0.050  0.050  0.050  0.049  0.049  0.049  0.049  0.049   \n",
      "20180503  0.048  ...  0.081  0.065  0.072  0.085  0.084  0.069  0.064  0.083   \n",
      "20180504  0.064  ...  0.081  0.081  0.080  0.080  0.084  0.085  0.085  0.085   \n",
      "20180505  0.041  ...  0.105  0.105  0.098  0.101  0.101  0.101  0.100  0.101   \n",
      "...         ...  ...    ...    ...    ...    ...    ...    ...    ...    ...   \n",
      "20190426  0.007  ...  0.056  0.065  0.071  0.062  0.052  0.055  0.042  0.057   \n",
      "20190427  0.007  ...  0.060  0.057  0.056  0.064  0.071  0.069  0.066  0.067   \n",
      "20190428  0.054  ...  0.054  0.066  0.057  0.029  0.008  0.011  0.024  0.022   \n",
      "20190429  0.014  ...  0.072  0.062  0.047  0.046  0.049  0.055  0.019  0.009   \n",
      "20190430  0.006  ...  0.019  0.006  0.007  0.006  0.015  0.023  0.014  0.000   \n",
      "\n",
      "             94     95  \n",
      "20180501  0.082  0.050  \n",
      "20180502  0.049  0.048  \n",
      "20180503  0.085  0.077  \n",
      "20180504  0.074  0.065  \n",
      "20180505  0.100  0.099  \n",
      "...         ...    ...  \n",
      "20190426  0.050  0.016  \n",
      "20190427  0.065  0.083  \n",
      "20190428  0.008  0.007  \n",
      "20190429  0.007  0.007  \n",
      "20190430  0.000  0.000  \n",
      "\n",
      "[365 rows x 96 columns]\n"
     ]
    }
   ],
   "source": [
    "df = df.fillna(0)\n",
    "sDatas = []\n",
    "\n",
    "for idx in df['아파트1-104-1206']:\n",
    "    sDatas.append(idx)\n",
    "\n",
    "dts = [dt.strftime('%Y%m%d') for dt in\n",
    "            datetime_range(datetime(2018,5,1,0), datetime(2019,5,1,0), timedelta(days = 1))]\n",
    "\n",
    "sData = {}\n",
    "dtIdx = 0\n",
    "for idx in range(3,len(sDatas),96):\n",
    "    sData[dts[dtIdx]] = pd.Series(sDatas[idx: idx + 96])\n",
    "    dtIdx += 1\n",
    "sDf = pd.DataFrame(sData)\n",
    "sDf = sDf.fillna(0)\n",
    "sDf = sDf.transpose()\n",
    "print(sDf)"
   ]
  },
  {
   "cell_type": "code",
   "execution_count": 97,
   "id": "214b67c1",
   "metadata": {},
   "outputs": [
    {
     "name": "stdout",
     "output_type": "stream",
     "text": [
      "[[ 0.36029058  0.31860553  0.35106608 ...  0.42521556  0.2771231\n",
      "  -0.14679687]\n",
      " [-0.12465585 -0.1437842  -0.12777966 ... -0.18437142 -0.18796646\n",
      "  -0.17490855]\n",
      " [-0.32433967 -0.19818299  0.39211    ...  0.29762759  0.31940397\n",
      "   0.23271079]\n",
      " ...\n",
      " [ 0.21765927  0.06021127  0.03639602 ... -0.56713534 -0.765805\n",
      "  -0.75119796]\n",
      " [-0.58107602 -0.49737635 -0.60662539 ... -0.75142908 -0.77989862\n",
      "  -0.75119796]\n",
      " [-0.53828662 -0.51097605 -0.70239454 ... -0.87901705 -0.87855398\n",
      "  -0.84958884]]\n"
     ]
    }
   ],
   "source": [
    "scaled = StandardScaler().fit_transform(sDf)\n",
    "print(scaled)"
   ]
  },
  {
   "cell_type": "code",
   "execution_count": 98,
   "id": "3524393e",
   "metadata": {},
   "outputs": [
    {
     "name": "stdout",
     "output_type": "stream",
     "text": [
      "(365, 96)\n",
      "            x         y\n",
      "0    2.350971  0.756726\n",
      "1    0.819896  1.361105\n",
      "2    1.089495  1.553746\n",
      "3    2.954181  0.238683\n",
      "4    4.585859  4.067496\n",
      "..        ...       ...\n",
      "360 -5.504917 -1.470903\n",
      "361 -2.810191  1.397020\n",
      "362 -1.162364  0.603618\n",
      "363 -5.447782 -0.962524\n",
      "364 -6.965019 -0.538543\n",
      "\n",
      "[365 rows x 2 columns]\n"
     ]
    }
   ],
   "source": [
    "pca = PCA(n_components=2)\n",
    "\n",
    "pca.fit(scaled);\n",
    "pca_columns = ['x', 'y'];\n",
    "after_pca = pca.transform(scaled)\n",
    "print(scaled.shape)\n",
    "\n",
    "sDf_pca = pd.DataFrame(after_pca, columns = pca_columns)\n",
    "print(sDf_pca)"
   ]
  },
  {
   "cell_type": "code",
   "execution_count": 29,
   "id": "2670b807",
   "metadata": {},
   "outputs": [],
   "source": [
    "import matplotlib.pyplot as plt"
   ]
  },
  {
   "cell_type": "code",
   "execution_count": 99,
   "id": "86f9599e",
   "metadata": {},
   "outputs": [
    {
     "data": {
      "image/png": "[encoded data removed]",
      "text/plain": [
       "<Figure size 432x288 with 1 Axes>"
      ]
     },
     "metadata": {
      "needs_background": "light"
     },
     "output_type": "display_data"
    }
   ],
   "source": [
    "x_axis_data = sDf_pca['x']\n",
    "y_axis_data = sDf_pca['y']\n",
    "\n",
    "plt.scatter(x_axis_data, y_axis_data, marker='o')\n",
    "plt.xlabel('x')\n",
    "plt.ylabel('y')\n",
    "plt.show()"
   ]
  },
  {
   "cell_type": "code",
   "execution_count": 36,
   "id": "4ed43d6d",
   "metadata": {},
   "outputs": [],
   "source": [
    "from sklearn.cluster import KMeans"
   ]
  },
  {
   "cell_type": "code",
   "execution_count": 100,
   "id": "4ba0be1f",
   "metadata": {},
   "outputs": [
    {
     "data": {
      "text/plain": [
       "array([[0.18792857, 0.18028571, 0.19142857, 0.17507143, 0.17271429,\n",
       "        0.17478571, 0.16642857, 0.16692857, 0.14507143, 0.13271429,\n",
       "        0.1255    , 0.16328571, 0.18478571, 0.22171429, 0.20242857,\n",
       "        0.2175    , 0.23571429, 0.19471429, 0.18521429, 0.20157143,\n",
       "        0.20235714, 0.21185714, 0.20221429, 0.17771429, 0.19342857,\n",
       "        0.20542857, 0.17421429, 0.18214286, 0.18814286, 0.13528571,\n",
       "        0.09607143, 0.08342857, 0.07935714, 0.08957143, 0.09821429,\n",
       "        0.11592857, 0.10464286, 0.09607143, 0.09485714, 0.08707143,\n",
       "        0.07878571, 0.09657143, 0.07635714, 0.07635714, 0.0755    ,\n",
       "        0.07714286, 0.0735    , 0.07521429, 0.07492857, 0.07335714,\n",
       "        0.07321429, 0.0735    , 0.0875    , 0.08671429, 0.0735    ,\n",
       "        0.05371429, 0.05464286, 0.0515    , 0.05278571, 0.05985714,\n",
       "        0.0745    , 0.05807143, 0.05264286, 0.05157143, 0.05271429,\n",
       "        0.05214286, 0.05142857, 0.05242857, 0.05142857, 0.0525    ,\n",
       "        0.05178571, 0.05164286, 0.05192857, 0.05214286, 0.07307143,\n",
       "        0.08585714, 0.14778571, 0.07978571, 0.05978571, 0.06057143,\n",
       "        0.08314286, 0.083     , 0.1075    , 0.095     , 0.06292857,\n",
       "        0.06171429, 0.06271429, 0.063     , 0.06164286, 0.06221429,\n",
       "        0.06107143, 0.06242857, 0.06228571, 0.06214286, 0.06321429,\n",
       "        0.06185714],\n",
       "       [0.03079012, 0.02964198, 0.02797531, 0.0265679 , 0.02741975,\n",
       "        0.02659259, 0.02534568, 0.02520988, 0.02575309, 0.02464198,\n",
       "        0.02565432, 0.02546914, 0.02498765, 0.0255679 , 0.02350617,\n",
       "        0.02411111, 0.02346914, 0.02382716, 0.02454321, 0.02387654,\n",
       "        0.02317284, 0.02503704, 0.02550617, 0.02335802, 0.02277778,\n",
       "        0.02295062, 0.02232099, 0.01966667, 0.01987654, 0.02039506,\n",
       "        0.02028395, 0.01912346, 0.01967901, 0.02051852, 0.02085185,\n",
       "        0.02085185, 0.02150617, 0.02022222, 0.02037037, 0.02240741,\n",
       "        0.02048148, 0.02166667, 0.02293827, 0.02198765, 0.02241975,\n",
       "        0.0232716 , 0.02124691, 0.02311111, 0.02379012, 0.02359259,\n",
       "        0.02318519, 0.0232716 , 0.02280247, 0.02540741, 0.02725926,\n",
       "        0.02723457, 0.02453086, 0.02274074, 0.02375309, 0.02654321,\n",
       "        0.02675309, 0.02585185, 0.02487654, 0.02462963, 0.02616049,\n",
       "        0.02741975, 0.0281358 , 0.02796296, 0.02923457, 0.03025926,\n",
       "        0.03579012, 0.03954321, 0.04317284, 0.05239506, 0.06141975,\n",
       "        0.06546914, 0.06734568, 0.06751852, 0.06292593, 0.06185185,\n",
       "        0.06291358, 0.06662963, 0.06655556, 0.06469136, 0.06561728,\n",
       "        0.06550617, 0.06414815, 0.06554321, 0.06532099, 0.05904938,\n",
       "        0.05016049, 0.04801235, 0.04360494, 0.03791358, 0.03790123,\n",
       "        0.03325926],\n",
       "       [0.20275   , 0.2179375 , 0.1913125 , 0.214375  , 0.22375   ,\n",
       "        0.2245625 , 0.23375   , 0.2421875 , 0.2339375 , 0.238375  ,\n",
       "        0.220125  , 0.231     , 0.2285    , 0.2090625 , 0.1843125 ,\n",
       "        0.1775625 , 0.16675   , 0.1856875 , 0.2080625 , 0.1870625 ,\n",
       "        0.1734375 , 0.158375  , 0.17375   , 0.1730625 , 0.1778125 ,\n",
       "        0.1858125 , 0.188     , 0.1836875 , 0.151625  , 0.0974375 ,\n",
       "        0.068125  , 0.06475   , 0.069875  , 0.0654375 , 0.0663125 ,\n",
       "        0.0650625 , 0.0688125 , 0.0675625 , 0.066625  , 0.0664375 ,\n",
       "        0.069625  , 0.0655    , 0.0555    , 0.0544375 , 0.0548125 ,\n",
       "        0.055625  , 0.0716875 , 0.0548125 , 0.06      , 0.0625    ,\n",
       "        0.0521875 , 0.05025   , 0.052     , 0.05225   , 0.052625  ,\n",
       "        0.0520625 , 0.0505    , 0.05275   , 0.0510625 , 0.051625  ,\n",
       "        0.05275   , 0.05125   , 0.05125   , 0.051625  , 0.052375  ,\n",
       "        0.0513125 , 0.0519375 , 0.0519375 , 0.0515625 , 0.052375  ,\n",
       "        0.0511875 , 0.051375  , 0.0511875 , 0.0543125 , 0.081625  ,\n",
       "        0.091375  , 0.138     , 0.1525    , 0.1176875 , 0.113875  ,\n",
       "        0.1183125 , 0.12975   , 0.1361875 , 0.1340625 , 0.15975   ,\n",
       "        0.1686875 , 0.146375  , 0.2224375 , 0.28775   , 0.3395625 ,\n",
       "        0.3309375 , 0.2995625 , 0.2845625 , 0.2995625 , 0.304125  ,\n",
       "        0.299375  ],\n",
       "       [0.01015385, 0.01041758, 0.00965934, 0.01012088, 0.01057143,\n",
       "        0.01030769, 0.00974725, 0.00982418, 0.01005495, 0.01183516,\n",
       "        0.01147253, 0.01097802, 0.01059341, 0.01013187, 0.01071429,\n",
       "        0.01125275, 0.01121978, 0.01083516, 0.01104396, 0.01084615,\n",
       "        0.01047253, 0.01112088, 0.01197802, 0.01017582, 0.01032967,\n",
       "        0.01102198, 0.01058242, 0.01095604, 0.01095604, 0.00931868,\n",
       "        0.01027473, 0.01056044, 0.01296703, 0.01550549, 0.0107033 ,\n",
       "        0.01101099, 0.01024176, 0.01034066, 0.00992308, 0.01065934,\n",
       "        0.01035165, 0.00992308, 0.01138462, 0.01632967, 0.01082418,\n",
       "        0.01226374, 0.01123077, 0.0096044 , 0.00985714, 0.0111978 ,\n",
       "        0.01108791, 0.00997802, 0.00948352, 0.00972527, 0.01078022,\n",
       "        0.00972527, 0.01032967, 0.01042857, 0.00905495, 0.00983516,\n",
       "        0.01036264, 0.01041758, 0.01063736, 0.01014286, 0.00886813,\n",
       "        0.00927473, 0.00984615, 0.0107033 , 0.01093407, 0.00928571,\n",
       "        0.00978022, 0.00994505, 0.00950549, 0.01094505, 0.01069231,\n",
       "        0.00934066, 0.00927473, 0.01021978, 0.01054945, 0.01105495,\n",
       "        0.01038462, 0.00962637, 0.00961538, 0.01045055, 0.01103297,\n",
       "        0.01138462, 0.01014286, 0.01041758, 0.01051648, 0.01058242,\n",
       "        0.01265934, 0.01281319, 0.01227473, 0.01314286, 0.01215385,\n",
       "        0.01208791],\n",
       "       [0.12625926, 0.1417037 , 0.15      , 0.14385185, 0.12818519,\n",
       "        0.11744444, 0.11518519, 0.10833333, 0.11781481, 0.1157037 ,\n",
       "        0.08814815, 0.08325926, 0.08122222, 0.08181481, 0.08422222,\n",
       "        0.07788889, 0.0732963 , 0.07133333, 0.07611111, 0.07140741,\n",
       "        0.06503704, 0.07192593, 0.06877778, 0.06844444, 0.07033333,\n",
       "        0.0687037 , 0.06777778, 0.06455556, 0.07814815, 0.07662963,\n",
       "        0.06340741, 0.06011111, 0.05377778, 0.05466667, 0.05462963,\n",
       "        0.05477778, 0.0527037 , 0.05403704, 0.05322222, 0.05451852,\n",
       "        0.0567037 , 0.06603704, 0.07122222, 0.06974074, 0.07      ,\n",
       "        0.06981481, 0.08203704, 0.08214815, 0.06518519, 0.05355556,\n",
       "        0.05492593, 0.05551852, 0.05448148, 0.05718519, 0.06303704,\n",
       "        0.06355556, 0.06474074, 0.0602963 , 0.06303704, 0.07196296,\n",
       "        0.07151852, 0.08062963, 0.1077037 , 0.10048148, 0.09840741,\n",
       "        0.10681481, 0.09596296, 0.0882963 , 0.08218519, 0.08059259,\n",
       "        0.08040741, 0.07092593, 0.08266667, 0.10288889, 0.10288889,\n",
       "        0.10259259, 0.11388889, 0.13722222, 0.14659259, 0.11522222,\n",
       "        0.1082963 , 0.10214815, 0.10566667, 0.10366667, 0.12648148,\n",
       "        0.13211111, 0.15259259, 0.14388889, 0.13981481, 0.14844444,\n",
       "        0.12985185, 0.13044444, 0.13322222, 0.12440741, 0.13244444,\n",
       "        0.13474074],\n",
       "       [0.06693382, 0.06561029, 0.06413971, 0.06244853, 0.06185294,\n",
       "        0.06009559, 0.05911765, 0.05736029, 0.05705882, 0.05755882,\n",
       "        0.05777941, 0.05702206, 0.05788971, 0.05830147, 0.05649265,\n",
       "        0.05609559, 0.05361765, 0.05197059, 0.05159559, 0.05186029,\n",
       "        0.05298529, 0.05364706, 0.0535    , 0.05219118, 0.05258824,\n",
       "        0.05163971, 0.05278676, 0.05243382, 0.06204412, 0.06031618,\n",
       "        0.05044853, 0.05030882, 0.05075735, 0.05057353, 0.05077206,\n",
       "        0.04969118, 0.05108088, 0.05094118, 0.05114706, 0.05064706,\n",
       "        0.05017647, 0.05133088, 0.05191176, 0.05226471, 0.05220588,\n",
       "        0.05369118, 0.05346324, 0.05474265, 0.05294118, 0.05238235,\n",
       "        0.05319853, 0.05423529, 0.05370588, 0.05461765, 0.05352941,\n",
       "        0.05391176, 0.05380147, 0.05288235, 0.05445588, 0.05511029,\n",
       "        0.05402941, 0.05616912, 0.05247059, 0.05382353, 0.05267647,\n",
       "        0.05356618, 0.05269853, 0.05238235, 0.05346324, 0.05467647,\n",
       "        0.05516912, 0.05457353, 0.05421324, 0.05803676, 0.06168382,\n",
       "        0.06039706, 0.06105147, 0.06108088, 0.06444853, 0.06870588,\n",
       "        0.06676471, 0.07200735, 0.07268382, 0.07430147, 0.07124265,\n",
       "        0.06931618, 0.06883088, 0.07268382, 0.07100735, 0.06983088,\n",
       "        0.07194853, 0.07131618, 0.06972059, 0.06869853, 0.06801471,\n",
       "        0.06598529]])"
      ]
     },
     "execution_count": 100,
     "metadata": {},
     "output_type": "execute_result"
    }
   ],
   "source": [
    "points = sDf.values\n",
    "kmeans = KMeans(n_clusters=6).fit(points)\n",
    "kmeans.cluster_centers_"
   ]
  },
  {
   "cell_type": "code",
   "execution_count": 73,
   "id": "32d4c66b",
   "metadata": {},
   "outputs": [],
   "source": [
    "import seaborn as sns"
   ]
  },
  {
   "cell_type": "code",
   "execution_count": 104,
   "id": "9c52a63f",
   "metadata": {},
   "outputs": [
    {
     "name": "stdout",
     "output_type": "stream",
     "text": [
      "            x         y  cluster      data\n",
      "0    2.350971  0.756726        5  20180501\n",
      "1    0.819896  1.361105        5  20180502\n",
      "2    1.089495  1.553746        5  20180503\n",
      "3    2.954181  0.238683        5  20180504\n",
      "4    4.585859  4.067496        5  20180505\n",
      "..        ...       ...      ...       ...\n",
      "360 -5.504917 -1.470903        1  20190426\n",
      "361 -2.810191  1.397020        1  20190427\n",
      "362 -1.162364  0.603618        1  20190428\n",
      "363 -5.447782 -0.962524        1  20190429\n",
      "364 -6.965019 -0.538543        3  20190430\n",
      "\n",
      "[365 rows x 4 columns]\n"
     ]
    }
   ],
   "source": [
    "sDf_pca[\"cluster\"] = kmeans.labels_\n",
    "sDf_pca[\"data\"] = sDf.index\n",
    "\n",
    "print(sDf_pca);"
   ]
  },
  {
   "cell_type": "code",
   "execution_count": 105,
   "id": "d252e4b3",
   "metadata": {},
   "outputs": [
    {
     "data": {
      "image/png": "[encoded data removed]",
      "text/plain": [
       "<Figure size 432x288 with 1 Axes>"
      ]
     },
     "metadata": {
      "needs_background": "light"
     },
     "output_type": "display_data"
    }
   ],
   "source": [
    "sns.scatterplot(x='x', y=\"y\", hue=\"cluster\", style=\"cluster\", s = 100, data = sDf_pca)\n",
    "plt.show()"
   ]
  },
  {
   "cell_type": "code",
   "execution_count": 106,
   "id": "fc0884ef",
   "metadata": {},
   "outputs": [
    {
     "data": {
      "text/plain": [
       "[<matplotlib.lines.Line2D at 0x7fe082538ca0>]"
      ]
     },
     "execution_count": 106,
     "metadata": {},
     "output_type": "execute_result"
    },
    {
     "data": {
      "image/png": "[encoded data removed]",
      "text/plain": [
       "<Figure size 432x288 with 1 Axes>"
      ]
     },
     "metadata": {
      "needs_background": "light"
     },
     "output_type": "display_data"
    }
   ],
   "source": [
    "wcss = []\n",
    "ks = []\n",
    "\n",
    "for k in range(2,11):\n",
    "    kmeans = KMeans(n_clusters = k, random_state=0).fit(sDf_pca)\n",
    "    wcss.append(kmeans.inertia_)\n",
    "    ks.append(k)\n",
    "    \n",
    "plt.plot(ks, wcss)"
   ]
  },
  {
   "cell_type": "code",
   "execution_count": null,
   "id": "026748b4",
   "metadata": {},
   "outputs": [],
   "source": []
  }
 ],
 "metadata": {
  "kernelspec": {
   "display_name": "Python 3",
   "language": "python",
   "name": "python3"
  },
  "language_info": {
   "codemirror_mode": {
    "name": "ipython",
    "version": 3
   },
   "file_extension": ".py",
   "mimetype": "text/x-python",
   "name": "python",
   "nbconvert_exporter": "python",
   "pygments_lexer": "ipython3",
   "version": "3.8.8"
  }
 },
 "nbformat": 4,
 "nbformat_minor": 5
}
