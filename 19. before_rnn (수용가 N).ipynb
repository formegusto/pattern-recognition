{
 "cells": [
  {
   "cell_type": "code",
   "execution_count": 2,
   "id": "ca29dac6",
   "metadata": {},
   "outputs": [
    {
     "name": "stderr",
     "output_type": "stream",
     "text": [
      "<ipython-input-2-94a471b26ff3>:12: DeprecationWarning: count is deprecated. Use estimated_document_count or count_documents instead. Please note that $where must be replaced by $expr, $near must be replaced by $geoWithin with $center, and $nearSphere must be replaced by $geoWithin with $centerSphere\n",
      "  total = household_col.count()\n"
     ]
    }
   ],
   "source": [
    "# Mongo 연결\n",
    "from pymongo import MongoClient as mc\n",
    "import random\n",
    "import pprint as pp\n",
    "\n",
    "mongo_uri = \"mongodb://localhost:27017\"\n",
    "client = mc(mongo_uri)\n",
    "\n",
    "keti_pr_db = client.keti_pattern_recognition\n",
    "household_col = keti_pr_db.household_info\n",
    "\n",
    "total = household_col.count()\n",
    "db_datas = {}\n",
    "n_total = 20\n",
    "for n in range(0, n_total):\n",
    "    ran_datas = list(household_col.\\\n",
    "                find().skip(random.randrange(0,total)).limit(1))[0]\n",
    "    \n",
    "    if ran_datas['uid'] not in db_datas:\n",
    "        db_datas[ran_datas['uid']] = ran_datas\n",
    "\n",
    "client.close()"
   ]
  },
  {
   "cell_type": "code",
   "execution_count": 5,
   "id": "3281f84e",
   "metadata": {},
   "outputs": [
    {
     "data": {
      "text/plain": [
       "dict_keys(['아파트2-2-1301', '아파트3-101-703', '아파트3-101-1507', '아파트3-102-1002', '아파트1-104-905', '아파트4-102-104', '아파트2-4-1201', '아파트3-102-702', '아파트2-5-1209', '아파트1-103-305', '아파트1-103-106', '아파트3-103-1309', '아파트1-103-1404', '아파트1-101-503', '아파트3-103-915', '아파트4-102-803', '아파트3-102-1205', '아파트2-1-104'])"
      ]
     },
     "execution_count": 5,
     "metadata": {},
     "output_type": "execute_result"
    }
   ],
   "source": [
    "db_datas.keys()"
   ]
  },
  {
   "cell_type": "code",
   "execution_count": null,
   "id": "81771a83",
   "metadata": {},
   "outputs": [],
   "source": []
  }
 ],
 "metadata": {
  "kernelspec": {
   "display_name": "Python 3",
   "language": "python",
   "name": "python3"
  },
  "language_info": {
   "codemirror_mode": {
    "name": "ipython",
    "version": 3
   },
   "file_extension": ".py",
   "mimetype": "text/x-python",
   "name": "python",
   "nbconvert_exporter": "python",
   "pygments_lexer": "ipython3",
   "version": "3.8.8"
  }
 },
 "nbformat": 4,
 "nbformat_minor": 5
}
