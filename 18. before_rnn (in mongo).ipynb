{
 "cells": [
  {
   "cell_type": "code",
   "execution_count": 3,
   "id": "83bdf4bf",
   "metadata": {},
   "outputs": [],
   "source": [
    "# Mongo 연결\n",
    "from pymongo import MongoClient as mc\n",
    "\n",
    "mongo_uri = \"mongodb://localhost:27017\"\n",
    "client = mc(mongo_uri)\n",
    "\n",
    "keti_pr_db = client.keti_pattern_recognition\n",
    "\n",
    "household_col = keti_pr_db.household_info\n",
    "db_datas = list(coln.find().skip(random.randrange(0,total)).limit(1))\n",
    "\n",
    "client.close()"
   ]
  },
  {
   "cell_type": "code",
   "execution_count": null,
   "id": "be20976e",
   "metadata": {},
   "outputs": [],
   "source": []
  }
 ],
 "metadata": {
  "kernelspec": {
   "display_name": "Python 3",
   "language": "python",
   "name": "python3"
  },
  "language_info": {
   "codemirror_mode": {
    "name": "ipython",
    "version": 3
   },
   "file_extension": ".py",
   "mimetype": "text/x-python",
   "name": "python",
   "nbconvert_exporter": "python",
   "pygments_lexer": "ipython3",
   "version": "3.8.8"
  }
 },
 "nbformat": 4,
 "nbformat_minor": 5
}
