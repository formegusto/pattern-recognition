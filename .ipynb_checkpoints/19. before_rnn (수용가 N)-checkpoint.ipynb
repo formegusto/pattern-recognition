{
 "cells": [
  {
   "cell_type": "code",
   "execution_count": 4,
   "id": "ca29dac6",
   "metadata": {},
   "outputs": [
    {
     "name": "stderr",
     "output_type": "stream",
     "text": [
      "<ipython-input-4-94a471b26ff3>:12: DeprecationWarning: count is deprecated. Use estimated_document_count or count_documents instead. Please note that $where must be replaced by $expr, $near must be replaced by $geoWithin with $center, and $nearSphere must be replaced by $geoWithin with $centerSphere\n",
      "  total = household_col.count()\n"
     ]
    }
   ],
   "source": [
    "# Mongo 연결\n",
    "from pymongo import MongoClient as mc\n",
    "import random\n",
    "import pprint as pp\n",
    "\n",
    "mongo_uri = \"mongodb://localhost:27017\"\n",
    "client = mc(mongo_uri)\n",
    "\n",
    "keti_pr_db = client.keti_pattern_recognition\n",
    "household_col = keti_pr_db.household_info\n",
    "\n",
    "total = household_col.count()\n",
    "db_datas = {}\n",
    "n_total = 20\n",
    "for n in range(0, n_total):\n",
    "    ran_datas = list(household_col.\\\n",
    "                find().skip(random.randrange(0,total)).limit(1))[0]\n",
    "    \n",
    "    if ran_datas['uid'] not in db_datas:\n",
    "        db_datas[ran_datas['uid']] = ran_datas\n",
    "\n",
    "client.close()"
   ]
  },
  {
   "cell_type": "code",
   "execution_count": 10,
   "id": "07550bfd",
   "metadata": {},
   "outputs": [],
   "source": [
    "# require module\n",
    "import pandas as pd\n",
    "import numpy as np\n",
    "import matplotlib.pyplot as plt\n",
    "import seaborn as sns\n",
    "from datetime import datetime as dt\n",
    "\n",
    "sns.set(rc={'figure.figsize': (15.7, 13.27)})\n",
    "plt.rcParams['figure.figsize'] = 15.7,13.27\n",
    "plt.rcParams['font.family'] = 'AppleGothic'\n",
    "\n",
    "SEASONS = {\n",
    "    \"봄\" : [3, 4, 5],\n",
    "    \"여름\" : [6, 7, 8],\n",
    "    \"가을\" : [9, 10, 11],\n",
    "    \"겨울\" : [12, 1, 2]\n",
    "}\n",
    "\n",
    "SEASONSARR = ['봄','여름','가을','겨울']\n",
    "\n",
    "'''\n",
    " 0 : 봄\n",
    " 1 : 여름\n",
    " 2 : 가을\n",
    " 3 : 겨울\n",
    "'''\n",
    "\n",
    "# Day Split\n",
    "DAYARR = [\"월\", \"화\", \"수\", \"목\", \"금\", \"토\", \"일\"]"
   ]
  },
  {
   "cell_type": "code",
   "execution_count": 13,
   "id": "3281f84e",
   "metadata": {},
   "outputs": [],
   "source": [
    "dict_data = {}\n",
    "\n",
    "for uid in db_datas.keys():\n",
    "    uid, timeslot = db_datas[uid]['uid'], db_datas[uid]['timeslot']\n",
    "    \n",
    "    datelist = [\n",
    "        dt.strptime(ts['time'], \"%Y-%m-%d T%H:%M %z\").date()\n",
    "        for ts in timeslot\n",
    "    ]\n",
    "    datelist = list(set(datelist))\n",
    "    datelist.sort()\n",
    "\n",
    "    ts_datas = {}\n",
    "    start_idx = 0\n",
    "    end_idx = 96\n",
    "    \n",
    "    for date in datelist:\n",
    "        ts_datas[date] = [ ts['power'] for ts in timeslot[start_idx:end_idx]]\n",
    "        start_idx = end_idx\n",
    "        end_idx = end_idx + 96\n",
    "        \n",
    "    ts_datas = pd.DataFrame(ts_datas).T\n",
    "    datas = ts_datas.reset_index().copy()\n",
    "    \n",
    "    datas.rename(columns={\"index\": \"date\"}, inplace=True)\n",
    "    datas['date'] = pd.to_datetime(datas['date'])\n",
    "    datas['month'] = [dt.month for dt in datas['date']]\n",
    "    datas = [\n",
    "        datas[(datas['month'].isin(SEASONS[season]))].copy()\n",
    "        for season in SEASONSARR\n",
    "    ]\n",
    "    \n",
    "    season_datas = {}\n",
    "    for season_idx, season in enumerate(SEASONSARR):\n",
    "        season_datas[season] = datas[season_idx].copy()\n",
    "    dict_data[uid] = season_datas"
   ]
  },
  {
   "cell_type": "code",
   "execution_count": null,
   "id": "d4e72fff",
   "metadata": {},
   "outputs": [],
   "source": []
  }
 ],
 "metadata": {
  "kernelspec": {
   "display_name": "Python 3",
   "language": "python",
   "name": "python3"
  },
  "language_info": {
   "codemirror_mode": {
    "name": "ipython",
    "version": 3
   },
   "file_extension": ".py",
   "mimetype": "text/x-python",
   "name": "python",
   "nbconvert_exporter": "python",
   "pygments_lexer": "ipython3",
   "version": "3.8.8"
  }
 },
 "nbformat": 4,
 "nbformat_minor": 5
}
