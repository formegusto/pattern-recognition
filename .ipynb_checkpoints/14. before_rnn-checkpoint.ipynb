{
 "cells": [
  {
   "cell_type": "markdown",
   "id": "4cf3d9ba",
   "metadata": {},
   "source": [
    "Keyword\n",
    "---\n",
    " - Load Excel\n",
    " - Search Keyword \n",
    "<!--  - Season Split -->\n",
    " - PCA For Remove Outlier\n",
    "     - PCA x,y 가 어떤 성분을 지니는 지 정리하기\n",
    "     - PCA 공식 위주로 Search 를 해봐야 할 듯\n",
    "     - 근데 PCA가 데이터 셋 전체적으로 보기 때문에 1년치 데이터를 전부 잡고 하는 것이 좋을 거 같음\n",
    "         - 여기서 아웃라이어 제거되는 수를 한번 체크해보고, 너무 많이 제거될 경우 다른 방안을 생각 \n",
    " - Scaler (X:일단 보류)\n",
    " - PCA\n",
    " - Elbow Check or 손실함수\n",
    "     - KMeans.inertia 값 (Cluster 간의 거리의 합)\n",
    " - KMeans\n",
    "     - 혹시나 할 경우 DBScan까지 적용해보기 (Elbow Check가 생각처럼 잘 안 될경우)\n",
    " - Visualization\n",
    "     - 계절별 필요 (season split) 이용\n",
    "     - 월별 필요 (date로 가능)\n",
    "     - 일별 필요 (date로 가능)"
   ]
  },
  {
   "cell_type": "code",
   "execution_count": null,
   "id": "382b222e",
   "metadata": {},
   "outputs": [],
   "source": []
  }
 ],
 "metadata": {
  "kernelspec": {
   "display_name": "Python 3",
   "language": "python",
   "name": "python3"
  },
  "language_info": {
   "codemirror_mode": {
    "name": "ipython",
    "version": 3
   },
   "file_extension": ".py",
   "mimetype": "text/x-python",
   "name": "python",
   "nbconvert_exporter": "python",
   "pygments_lexer": "ipython3",
   "version": "3.8.8"
  }
 },
 "nbformat": 4,
 "nbformat_minor": 5
}
