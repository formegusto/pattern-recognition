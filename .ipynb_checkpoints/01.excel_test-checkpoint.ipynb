{
 "cells": [
  {
   "cell_type": "code",
   "execution_count": null,
   "id": "6f597f61",
   "metadata": {},
   "outputs": [],
   "source": [
    "import pandas as pd\n",
    "\n",
    "print(\"Excel Read\")"
   ]
  },
  {
   "cell_type": "code",
   "execution_count": null,
   "id": "d97ebb83",
   "metadata": {},
   "outputs": [],
   "source": [
    "xlsx = pd.read_excel('datas.xlsx')"
   ]
  },
  {
   "cell_type": "code",
   "execution_count": null,
   "id": "aa73495a",
   "metadata": {},
   "outputs": [],
   "source": [
    "print(xlsx.head())"
   ]
  },
  {
   "cell_type": "code",
   "execution_count": null,
   "id": "31938e79",
   "metadata": {},
   "outputs": [],
   "source": []
  }
 ],
 "metadata": {
  "kernelspec": {
   "display_name": "Python 3",
   "language": "python",
   "name": "python3"
  },
  "language_info": {
   "codemirror_mode": {
    "name": "ipython",
    "version": 3
   },
   "file_extension": ".py",
   "mimetype": "text/x-python",
   "name": "python",
   "nbconvert_exporter": "python",
   "pygments_lexer": "ipython3",
   "version": "3.9.4"
  }
 },
 "nbformat": 4,
 "nbformat_minor": 5
}
